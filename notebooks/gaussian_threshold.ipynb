{
 "cells": [
  {
   "cell_type": "code",
   "execution_count": 1,
   "metadata": {},
   "outputs": [],
   "source": [
    "%matplotlib inline"
   ]
  },
  {
   "cell_type": "code",
   "execution_count": 2,
   "metadata": {},
   "outputs": [],
   "source": [
    "import numpy as np\n",
    "import pandas as pd\n",
    "\n",
    "from fooof.sim.gen import gen_power_spectrum, gen_group_power_spectra, gen_periodic, gen_aperiodic\n",
    "from fooof.sim.params import param_sampler, param_iter, param_jitter, Stepper\n",
    "from fooof.plts.spectra import plot_spectrum, plot_spectra\n",
    "\n",
    "from fooof import FOOOF, FOOOFGroup\n",
    "from fooof.plts.fg import plot_fg\n",
    "from fooof.plts.fg import plot_fg_peak_cens"
   ]
  },
  {
   "cell_type": "code",
   "execution_count": 3,
   "metadata": {},
   "outputs": [],
   "source": [
    "def ap_gen(n_spectra):\n",
    "    \n",
    "    for spectrum in range(n_spectra):\n",
    "        \n",
    "        offset = np.float(np.random.uniform(0.75, 1, 1))\n",
    "        exp = np.float(np.random.uniform (0.50, 1.50, 1))\n",
    "        \n",
    "        yield [offset, exp]\n",
    "        \n",
    "        \n",
    "def p_gen(n_spectra):\n",
    "    \n",
    "    for n_spec in range(0, n_spectra, 10):\n",
    "        \n",
    "        # Increment CF in steps of 0.01\n",
    "        delta_cf = 0.01 * n_spec\n",
    "        \n",
    "        # Increment BW between 0.25 and 1\n",
    "        step = np.linspace(0.25, 1.0, 11)\n",
    "        step_rev = np.linspace(0.25, 1.0, 11)[::-1]\n",
    "        \n",
    "        for sub_spec in range(n_spec, n_spec+10):\n",
    "\n",
    "            CF1 = 10\n",
    "            CF2 = 10 + delta_cf\n",
    "           \n",
    "            PW = 0.4\n",
    "            \n",
    "            BW1 = step[sub_spec-n_spec]\n",
    "            BW2 = step_rev[sub_spec-n_spec]\n",
    "        \n",
    "        \n",
    "            yield [[CF1, PW, BW1], [CF2, PW, BW2]]\n",
    "        "
   ]
  },
  {
   "cell_type": "markdown",
   "metadata": {},
   "source": [
    "# Comparison of CF versus CF+1SD Upper Bound\n",
    "This notebook uses the new CF+1SD upper bound.\n",
    "\n",
    "## Center Frequency\n",
    "Both peaks start at 10 Hz and the second peak is increased by 0.1 Hz, every 10 models. The first peak is stationary at 10 Hz and the final second peak ends at 20 Hz, resulting in 1000 models. \n",
    "\n",
    "## Bandwidth\n",
    "Within every set of 10 models, in which the CFs do not change, the bandwidths are set to:\n",
    "\n",
    "(bandwidth_1, bandwidth_2)<br>\n",
    "\n",
    "(0.25, 1.00)<br>\n",
    "(0.32, 0.92)<br>\n",
    "(0.40, 0.85)<br>\n",
    "(0.48, 0.78)<br>\n",
    "(0.55, 0.70)<br>\n",
    "(0.62, 0.62)<br>\n",
    "(0.70, 0.55)<br>\n",
    "(0.78, 0.48)<br>\n",
    "(0.85, 0.40)<br>\n",
    "(0.92, 0.32)<br>\n",
    "(1.00, 0.25)<br>\n",
    "\n",
    "This is to be independent of which peak is first. \n",
    "\n",
    "## Gaussian Threshold\n",
    "The same set of 1000 models, with varying CFs and BWs, are ran against 20 values for <code>_gauss_overlap_thresh</code>, ranging from 0.1 to 2.0 standard deviations.\n",
    "\n",
    "## Other Parameters\n",
    "PW is set to a constant 0.4 across all models.\n",
    "\n",
    "Aperiodic parameters should be independent.\n",
    "\n",
    "Noise level is set to 0.04."
   ]
  },
  {
   "cell_type": "code",
   "execution_count": 4,
   "metadata": {},
   "outputs": [],
   "source": [
    "np.random.seed(0)\n",
    "n_spectra = 1000\n",
    "freqs, powers = gen_group_power_spectra(n_spectra, [1, 35], ap_gen(n_spectra), p_gen(n_spectra), nlvs=0.04)"
   ]
  },
  {
   "cell_type": "code",
   "execution_count": 5,
   "metadata": {
    "scrolled": true
   },
   "outputs": [
    {
     "data": {
      "application/vnd.jupyter.widget-view+json": {
       "model_id": "f0a326a4debe47e88e7d9096defbb93b",
       "version_major": 2,
       "version_minor": 0
      },
      "text/plain": [
       "HBox(children=(FloatProgress(value=0.0, description='Running FOOOFGroup', layout=Layout(flex='2'), max=1000.0,…"
      ]
     },
     "metadata": {},
     "output_type": "display_data"
    },
    {
     "name": "stdout",
     "output_type": "stream",
     "text": [
      "\n"
     ]
    },
    {
     "data": {
      "application/vnd.jupyter.widget-view+json": {
       "model_id": "862eeea974764a98b08313e407bb37db",
       "version_major": 2,
       "version_minor": 0
      },
      "text/plain": [
       "HBox(children=(FloatProgress(value=0.0, description='Running FOOOFGroup', layout=Layout(flex='2'), max=1000.0,…"
      ]
     },
     "metadata": {},
     "output_type": "display_data"
    },
    {
     "name": "stdout",
     "output_type": "stream",
     "text": [
      "\n"
     ]
    },
    {
     "data": {
      "application/vnd.jupyter.widget-view+json": {
       "model_id": "7596e01af7e14094a8e90e07dba09621",
       "version_major": 2,
       "version_minor": 0
      },
      "text/plain": [
       "HBox(children=(FloatProgress(value=0.0, description='Running FOOOFGroup', layout=Layout(flex='2'), max=1000.0,…"
      ]
     },
     "metadata": {},
     "output_type": "display_data"
    },
    {
     "name": "stdout",
     "output_type": "stream",
     "text": [
      "\n"
     ]
    },
    {
     "data": {
      "application/vnd.jupyter.widget-view+json": {
       "model_id": "d908ce5cc19841c19138a9909a0da0e0",
       "version_major": 2,
       "version_minor": 0
      },
      "text/plain": [
       "HBox(children=(FloatProgress(value=0.0, description='Running FOOOFGroup', layout=Layout(flex='2'), max=1000.0,…"
      ]
     },
     "metadata": {},
     "output_type": "display_data"
    },
    {
     "name": "stdout",
     "output_type": "stream",
     "text": [
      "\n"
     ]
    },
    {
     "data": {
      "application/vnd.jupyter.widget-view+json": {
       "model_id": "008debf561c04f4cadb5619789a0ea1c",
       "version_major": 2,
       "version_minor": 0
      },
      "text/plain": [
       "HBox(children=(FloatProgress(value=0.0, description='Running FOOOFGroup', layout=Layout(flex='2'), max=1000.0,…"
      ]
     },
     "metadata": {},
     "output_type": "display_data"
    },
    {
     "name": "stdout",
     "output_type": "stream",
     "text": [
      "\n"
     ]
    },
    {
     "data": {
      "application/vnd.jupyter.widget-view+json": {
       "model_id": "0262688147fc4b43b9da353dff5535d8",
       "version_major": 2,
       "version_minor": 0
      },
      "text/plain": [
       "HBox(children=(FloatProgress(value=0.0, description='Running FOOOFGroup', layout=Layout(flex='2'), max=1000.0,…"
      ]
     },
     "metadata": {},
     "output_type": "display_data"
    },
    {
     "name": "stdout",
     "output_type": "stream",
     "text": [
      "\n"
     ]
    },
    {
     "data": {
      "application/vnd.jupyter.widget-view+json": {
       "model_id": "11abed363fbc4ac79423d79a3af86b2a",
       "version_major": 2,
       "version_minor": 0
      },
      "text/plain": [
       "HBox(children=(FloatProgress(value=0.0, description='Running FOOOFGroup', layout=Layout(flex='2'), max=1000.0,…"
      ]
     },
     "metadata": {},
     "output_type": "display_data"
    },
    {
     "name": "stdout",
     "output_type": "stream",
     "text": [
      "\n"
     ]
    },
    {
     "data": {
      "application/vnd.jupyter.widget-view+json": {
       "model_id": "798629d67c8246d4bbc743f68f8702c3",
       "version_major": 2,
       "version_minor": 0
      },
      "text/plain": [
       "HBox(children=(FloatProgress(value=0.0, description='Running FOOOFGroup', layout=Layout(flex='2'), max=1000.0,…"
      ]
     },
     "metadata": {},
     "output_type": "display_data"
    },
    {
     "name": "stdout",
     "output_type": "stream",
     "text": [
      "\n"
     ]
    },
    {
     "data": {
      "application/vnd.jupyter.widget-view+json": {
       "model_id": "a469f4ea40394ca2bd0074e10fba47ac",
       "version_major": 2,
       "version_minor": 0
      },
      "text/plain": [
       "HBox(children=(FloatProgress(value=0.0, description='Running FOOOFGroup', layout=Layout(flex='2'), max=1000.0,…"
      ]
     },
     "metadata": {},
     "output_type": "display_data"
    },
    {
     "name": "stdout",
     "output_type": "stream",
     "text": [
      "\n"
     ]
    },
    {
     "data": {
      "application/vnd.jupyter.widget-view+json": {
       "model_id": "2dba3c92228643f98c75fdfb66550810",
       "version_major": 2,
       "version_minor": 0
      },
      "text/plain": [
       "HBox(children=(FloatProgress(value=0.0, description='Running FOOOFGroup', layout=Layout(flex='2'), max=1000.0,…"
      ]
     },
     "metadata": {},
     "output_type": "display_data"
    },
    {
     "name": "stdout",
     "output_type": "stream",
     "text": [
      "\n"
     ]
    },
    {
     "data": {
      "application/vnd.jupyter.widget-view+json": {
       "model_id": "076b952b2333429c88921b2496d990d3",
       "version_major": 2,
       "version_minor": 0
      },
      "text/plain": [
       "HBox(children=(FloatProgress(value=0.0, description='Running FOOOFGroup', layout=Layout(flex='2'), max=1000.0,…"
      ]
     },
     "metadata": {},
     "output_type": "display_data"
    },
    {
     "name": "stdout",
     "output_type": "stream",
     "text": [
      "\n"
     ]
    },
    {
     "data": {
      "application/vnd.jupyter.widget-view+json": {
       "model_id": "2cdea78d762e4739be2446bb4917fca7",
       "version_major": 2,
       "version_minor": 0
      },
      "text/plain": [
       "HBox(children=(FloatProgress(value=0.0, description='Running FOOOFGroup', layout=Layout(flex='2'), max=1000.0,…"
      ]
     },
     "metadata": {},
     "output_type": "display_data"
    },
    {
     "name": "stdout",
     "output_type": "stream",
     "text": [
      "\n"
     ]
    },
    {
     "data": {
      "application/vnd.jupyter.widget-view+json": {
       "model_id": "46100984c13b4a2faf6ea46eb8f2c541",
       "version_major": 2,
       "version_minor": 0
      },
      "text/plain": [
       "HBox(children=(FloatProgress(value=0.0, description='Running FOOOFGroup', layout=Layout(flex='2'), max=1000.0,…"
      ]
     },
     "metadata": {},
     "output_type": "display_data"
    },
    {
     "name": "stdout",
     "output_type": "stream",
     "text": [
      "\n"
     ]
    },
    {
     "data": {
      "application/vnd.jupyter.widget-view+json": {
       "model_id": "0977fdfa04ab4193970f278531950543",
       "version_major": 2,
       "version_minor": 0
      },
      "text/plain": [
       "HBox(children=(FloatProgress(value=0.0, description='Running FOOOFGroup', layout=Layout(flex='2'), max=1000.0,…"
      ]
     },
     "metadata": {},
     "output_type": "display_data"
    },
    {
     "name": "stdout",
     "output_type": "stream",
     "text": [
      "\n"
     ]
    },
    {
     "data": {
      "application/vnd.jupyter.widget-view+json": {
       "model_id": "a9a5fea15bad4e6584ef9a44cf0d416b",
       "version_major": 2,
       "version_minor": 0
      },
      "text/plain": [
       "HBox(children=(FloatProgress(value=0.0, description='Running FOOOFGroup', layout=Layout(flex='2'), max=1000.0,…"
      ]
     },
     "metadata": {},
     "output_type": "display_data"
    },
    {
     "name": "stdout",
     "output_type": "stream",
     "text": [
      "\n"
     ]
    },
    {
     "data": {
      "application/vnd.jupyter.widget-view+json": {
       "model_id": "b532e6968250414ea7c52f9d3e7a77ef",
       "version_major": 2,
       "version_minor": 0
      },
      "text/plain": [
       "HBox(children=(FloatProgress(value=0.0, description='Running FOOOFGroup', layout=Layout(flex='2'), max=1000.0,…"
      ]
     },
     "metadata": {},
     "output_type": "display_data"
    },
    {
     "name": "stdout",
     "output_type": "stream",
     "text": [
      "\n"
     ]
    },
    {
     "data": {
      "application/vnd.jupyter.widget-view+json": {
       "model_id": "f734ed364ade461287c5ea6f11beebc1",
       "version_major": 2,
       "version_minor": 0
      },
      "text/plain": [
       "HBox(children=(FloatProgress(value=0.0, description='Running FOOOFGroup', layout=Layout(flex='2'), max=1000.0,…"
      ]
     },
     "metadata": {},
     "output_type": "display_data"
    },
    {
     "name": "stdout",
     "output_type": "stream",
     "text": [
      "\n"
     ]
    },
    {
     "data": {
      "application/vnd.jupyter.widget-view+json": {
       "model_id": "f6dc004250e34d03ab6ed3c85c85361e",
       "version_major": 2,
       "version_minor": 0
      },
      "text/plain": [
       "HBox(children=(FloatProgress(value=0.0, description='Running FOOOFGroup', layout=Layout(flex='2'), max=1000.0,…"
      ]
     },
     "metadata": {},
     "output_type": "display_data"
    },
    {
     "name": "stdout",
     "output_type": "stream",
     "text": [
      "\n"
     ]
    },
    {
     "data": {
      "application/vnd.jupyter.widget-view+json": {
       "model_id": "365ee5d20457435caa697fffc7a7a102",
       "version_major": 2,
       "version_minor": 0
      },
      "text/plain": [
       "HBox(children=(FloatProgress(value=0.0, description='Running FOOOFGroup', layout=Layout(flex='2'), max=1000.0,…"
      ]
     },
     "metadata": {},
     "output_type": "display_data"
    },
    {
     "name": "stdout",
     "output_type": "stream",
     "text": [
      "\n"
     ]
    },
    {
     "data": {
      "application/vnd.jupyter.widget-view+json": {
       "model_id": "4235e84b66b54e94b4b7e42f465763aa",
       "version_major": 2,
       "version_minor": 0
      },
      "text/plain": [
       "HBox(children=(FloatProgress(value=0.0, description='Running FOOOFGroup', layout=Layout(flex='2'), max=1000.0,…"
      ]
     },
     "metadata": {},
     "output_type": "display_data"
    },
    {
     "name": "stdout",
     "output_type": "stream",
     "text": [
      "\n"
     ]
    }
   ],
   "source": [
    "bad_peak_count = []\n",
    "bad_sim_params = []\n",
    "bw_mean = []\n",
    "bw_std = []\n",
    "cf_mean = []\n",
    "cf_std = []\n",
    "\n",
    "for thr in np.arange(0.1, 2.1, 0.1):\n",
    "    \n",
    "    fg = FOOOFGroup(peak_width_limits=(2, 11), min_peak_height=0.2)\n",
    "    fg.add_data(freqs, powers)\n",
    "    \n",
    "    # Fit using a range of different threholds\n",
    "    fg._gauss_overlap_thresh = thr\n",
    "    fg.fit(n_jobs=8, progress='tqdm.notebook')\n",
    "    \n",
    "    # For reference of simulated params\n",
    "    sim_params = list(p_gen(1000))\n",
    "    \n",
    "    # Count models with gt or lt 2 peaks\n",
    "    peaks = fg.get_params('peak')\n",
    "    bad_bw_diff = []\n",
    "    bad_cf_diff = []\n",
    "    for idx in range(n_spectra):\n",
    "        peak_count = len(fg[idx].peak_params)\n",
    "        if peak_count != 2:\n",
    "            bad_bw_diff.append(np.diff(sim_params[idx], axis=0)[0][2])\n",
    "            bad_cf_diff.append(np.diff(sim_params[idx], axis=0)[0][0])\n",
    "            bad_sim_params.append(fg[idx].peak_params)\n",
    "            \n",
    "    bad_peak_count.append(len(bad_bw_diff))\n",
    "                               \n",
    "    bw_mean.append(np.mean(bad_bw_diff))\n",
    "    bw_std.append(np.std(bad_bw_diff))\n",
    "    cf_mean.append(np.mean(bad_cf_diff))\n",
    "    cf_std.append(np.std(bad_cf_diff))"
   ]
  },
  {
   "cell_type": "code",
   "execution_count": 6,
   "metadata": {},
   "outputs": [],
   "source": [
    "# Create a df of mean differences between two simulated peaks\n",
    "#   for simulated pairs where gt or lt two peaks were fit\n",
    "df_incorrect = pd.DataFrame()\n",
    "df_incorrect[\"Threshold\"] = np.arange(0.1, 2.1, 0.1)\n",
    "df_incorrect['Peaks/1000'] = bad_peak_count\n",
    "df_incorrect['Mean CF Diff'] = cf_mean   \n",
    "df_incorrect['Std CF Diff'] = cf_std\n",
    "df_incorrect['Mean BW Diff'] = bw_mean\n",
    "df_incorrect['Std BW Diff'] = bw_std"
   ]
  },
  {
   "cell_type": "code",
   "execution_count": 7,
   "metadata": {},
   "outputs": [
    {
     "data": {
      "text/html": [
       "<div>\n",
       "<style scoped>\n",
       "    .dataframe tbody tr th:only-of-type {\n",
       "        vertical-align: middle;\n",
       "    }\n",
       "\n",
       "    .dataframe tbody tr th {\n",
       "        vertical-align: top;\n",
       "    }\n",
       "\n",
       "    .dataframe thead th {\n",
       "        text-align: right;\n",
       "    }\n",
       "</style>\n",
       "<table border=\"1\" class=\"dataframe\">\n",
       "  <thead>\n",
       "    <tr style=\"text-align: right;\">\n",
       "      <th></th>\n",
       "      <th>Threshold</th>\n",
       "      <th>Peaks/1000</th>\n",
       "      <th>Mean CF Diff</th>\n",
       "      <th>Std CF Diff</th>\n",
       "      <th>Mean BW Diff</th>\n",
       "      <th>Std BW Diff</th>\n",
       "    </tr>\n",
       "  </thead>\n",
       "  <tbody>\n",
       "    <tr>\n",
       "      <th>0</th>\n",
       "      <td>0.1</td>\n",
       "      <td>129</td>\n",
       "      <td>0.655814</td>\n",
       "      <td>0.681415</td>\n",
       "      <td>0.065116</td>\n",
       "      <td>0.420484</td>\n",
       "    </tr>\n",
       "    <tr>\n",
       "      <th>1</th>\n",
       "      <td>0.2</td>\n",
       "      <td>129</td>\n",
       "      <td>0.655814</td>\n",
       "      <td>0.681415</td>\n",
       "      <td>0.065116</td>\n",
       "      <td>0.420484</td>\n",
       "    </tr>\n",
       "    <tr>\n",
       "      <th>2</th>\n",
       "      <td>0.3</td>\n",
       "      <td>129</td>\n",
       "      <td>0.655814</td>\n",
       "      <td>0.681415</td>\n",
       "      <td>0.065116</td>\n",
       "      <td>0.420484</td>\n",
       "    </tr>\n",
       "    <tr>\n",
       "      <th>3</th>\n",
       "      <td>0.4</td>\n",
       "      <td>129</td>\n",
       "      <td>0.655814</td>\n",
       "      <td>0.681415</td>\n",
       "      <td>0.065116</td>\n",
       "      <td>0.420484</td>\n",
       "    </tr>\n",
       "    <tr>\n",
       "      <th>4</th>\n",
       "      <td>0.5</td>\n",
       "      <td>129</td>\n",
       "      <td>0.655814</td>\n",
       "      <td>0.681415</td>\n",
       "      <td>0.065116</td>\n",
       "      <td>0.420484</td>\n",
       "    </tr>\n",
       "    <tr>\n",
       "      <th>5</th>\n",
       "      <td>0.6</td>\n",
       "      <td>129</td>\n",
       "      <td>0.655814</td>\n",
       "      <td>0.681415</td>\n",
       "      <td>0.065116</td>\n",
       "      <td>0.420484</td>\n",
       "    </tr>\n",
       "    <tr>\n",
       "      <th>6</th>\n",
       "      <td>0.7</td>\n",
       "      <td>129</td>\n",
       "      <td>0.655814</td>\n",
       "      <td>0.681415</td>\n",
       "      <td>0.065116</td>\n",
       "      <td>0.420484</td>\n",
       "    </tr>\n",
       "    <tr>\n",
       "      <th>7</th>\n",
       "      <td>0.8</td>\n",
       "      <td>151</td>\n",
       "      <td>0.729801</td>\n",
       "      <td>0.475742</td>\n",
       "      <td>0.049669</td>\n",
       "      <td>0.416366</td>\n",
       "    </tr>\n",
       "    <tr>\n",
       "      <th>8</th>\n",
       "      <td>0.9</td>\n",
       "      <td>157</td>\n",
       "      <td>0.775796</td>\n",
       "      <td>0.522537</td>\n",
       "      <td>0.047771</td>\n",
       "      <td>0.419180</td>\n",
       "    </tr>\n",
       "    <tr>\n",
       "      <th>9</th>\n",
       "      <td>1.0</td>\n",
       "      <td>157</td>\n",
       "      <td>0.775796</td>\n",
       "      <td>0.522537</td>\n",
       "      <td>0.047771</td>\n",
       "      <td>0.419180</td>\n",
       "    </tr>\n",
       "    <tr>\n",
       "      <th>10</th>\n",
       "      <td>1.1</td>\n",
       "      <td>223</td>\n",
       "      <td>1.091928</td>\n",
       "      <td>0.685878</td>\n",
       "      <td>0.071973</td>\n",
       "      <td>0.433633</td>\n",
       "    </tr>\n",
       "    <tr>\n",
       "      <th>11</th>\n",
       "      <td>1.2</td>\n",
       "      <td>223</td>\n",
       "      <td>1.091928</td>\n",
       "      <td>0.685878</td>\n",
       "      <td>0.071973</td>\n",
       "      <td>0.433633</td>\n",
       "    </tr>\n",
       "    <tr>\n",
       "      <th>12</th>\n",
       "      <td>1.3</td>\n",
       "      <td>274</td>\n",
       "      <td>1.329562</td>\n",
       "      <td>0.807200</td>\n",
       "      <td>0.071715</td>\n",
       "      <td>0.431020</td>\n",
       "    </tr>\n",
       "    <tr>\n",
       "      <th>13</th>\n",
       "      <td>1.4</td>\n",
       "      <td>280</td>\n",
       "      <td>1.365000</td>\n",
       "      <td>0.833917</td>\n",
       "      <td>0.072321</td>\n",
       "      <td>0.435472</td>\n",
       "    </tr>\n",
       "    <tr>\n",
       "      <th>14</th>\n",
       "      <td>1.5</td>\n",
       "      <td>280</td>\n",
       "      <td>1.365000</td>\n",
       "      <td>0.833917</td>\n",
       "      <td>0.072321</td>\n",
       "      <td>0.435472</td>\n",
       "    </tr>\n",
       "    <tr>\n",
       "      <th>15</th>\n",
       "      <td>1.6</td>\n",
       "      <td>339</td>\n",
       "      <td>1.648378</td>\n",
       "      <td>0.984311</td>\n",
       "      <td>0.072124</td>\n",
       "      <td>0.431910</td>\n",
       "    </tr>\n",
       "    <tr>\n",
       "      <th>16</th>\n",
       "      <td>1.7</td>\n",
       "      <td>339</td>\n",
       "      <td>1.648378</td>\n",
       "      <td>0.984311</td>\n",
       "      <td>0.072124</td>\n",
       "      <td>0.431910</td>\n",
       "    </tr>\n",
       "    <tr>\n",
       "      <th>17</th>\n",
       "      <td>1.8</td>\n",
       "      <td>385</td>\n",
       "      <td>1.887792</td>\n",
       "      <td>1.132693</td>\n",
       "      <td>0.073636</td>\n",
       "      <td>0.435159</td>\n",
       "    </tr>\n",
       "    <tr>\n",
       "      <th>18</th>\n",
       "      <td>1.9</td>\n",
       "      <td>385</td>\n",
       "      <td>1.887792</td>\n",
       "      <td>1.132693</td>\n",
       "      <td>0.073636</td>\n",
       "      <td>0.435159</td>\n",
       "    </tr>\n",
       "    <tr>\n",
       "      <th>19</th>\n",
       "      <td>2.0</td>\n",
       "      <td>394</td>\n",
       "      <td>1.946447</td>\n",
       "      <td>1.183816</td>\n",
       "      <td>0.071954</td>\n",
       "      <td>0.437539</td>\n",
       "    </tr>\n",
       "  </tbody>\n",
       "</table>\n",
       "</div>"
      ],
      "text/plain": [
       "    Threshold  Peaks/1000  Mean CF Diff  Std CF Diff  Mean BW Diff  \\\n",
       "0         0.1         129      0.655814     0.681415      0.065116   \n",
       "1         0.2         129      0.655814     0.681415      0.065116   \n",
       "2         0.3         129      0.655814     0.681415      0.065116   \n",
       "3         0.4         129      0.655814     0.681415      0.065116   \n",
       "4         0.5         129      0.655814     0.681415      0.065116   \n",
       "5         0.6         129      0.655814     0.681415      0.065116   \n",
       "6         0.7         129      0.655814     0.681415      0.065116   \n",
       "7         0.8         151      0.729801     0.475742      0.049669   \n",
       "8         0.9         157      0.775796     0.522537      0.047771   \n",
       "9         1.0         157      0.775796     0.522537      0.047771   \n",
       "10        1.1         223      1.091928     0.685878      0.071973   \n",
       "11        1.2         223      1.091928     0.685878      0.071973   \n",
       "12        1.3         274      1.329562     0.807200      0.071715   \n",
       "13        1.4         280      1.365000     0.833917      0.072321   \n",
       "14        1.5         280      1.365000     0.833917      0.072321   \n",
       "15        1.6         339      1.648378     0.984311      0.072124   \n",
       "16        1.7         339      1.648378     0.984311      0.072124   \n",
       "17        1.8         385      1.887792     1.132693      0.073636   \n",
       "18        1.9         385      1.887792     1.132693      0.073636   \n",
       "19        2.0         394      1.946447     1.183816      0.071954   \n",
       "\n",
       "    Std BW Diff  \n",
       "0      0.420484  \n",
       "1      0.420484  \n",
       "2      0.420484  \n",
       "3      0.420484  \n",
       "4      0.420484  \n",
       "5      0.420484  \n",
       "6      0.420484  \n",
       "7      0.416366  \n",
       "8      0.419180  \n",
       "9      0.419180  \n",
       "10     0.433633  \n",
       "11     0.433633  \n",
       "12     0.431020  \n",
       "13     0.435472  \n",
       "14     0.435472  \n",
       "15     0.431910  \n",
       "16     0.431910  \n",
       "17     0.435159  \n",
       "18     0.435159  \n",
       "19     0.437539  "
      ]
     },
     "execution_count": 7,
     "metadata": {},
     "output_type": "execute_result"
    }
   ],
   "source": [
    "df_incorrect"
   ]
  },
  {
   "cell_type": "code",
   "execution_count": 12,
   "metadata": {},
   "outputs": [
    {
     "data": {
      "text/html": [
       "<div>\n",
       "<style scoped>\n",
       "    .dataframe tbody tr th:only-of-type {\n",
       "        vertical-align: middle;\n",
       "    }\n",
       "\n",
       "    .dataframe tbody tr th {\n",
       "        vertical-align: top;\n",
       "    }\n",
       "\n",
       "    .dataframe thead th {\n",
       "        text-align: right;\n",
       "    }\n",
       "</style>\n",
       "<table border=\"1\" class=\"dataframe\">\n",
       "  <thead>\n",
       "    <tr style=\"text-align: right;\">\n",
       "      <th></th>\n",
       "      <th>Threshold</th>\n",
       "      <th>Peaks/1000</th>\n",
       "      <th>Mean CF Diff</th>\n",
       "      <th>Std CF Diff</th>\n",
       "      <th>Mean BW Diff</th>\n",
       "      <th>Std BW Diff</th>\n",
       "    </tr>\n",
       "  </thead>\n",
       "  <tbody>\n",
       "    <tr>\n",
       "      <th>0</th>\n",
       "      <td>0.1</td>\n",
       "      <td>129</td>\n",
       "      <td>0.655814</td>\n",
       "      <td>0.681415</td>\n",
       "      <td>0.065116</td>\n",
       "      <td>0.420484</td>\n",
       "    </tr>\n",
       "    <tr>\n",
       "      <th>1</th>\n",
       "      <td>0.2</td>\n",
       "      <td>129</td>\n",
       "      <td>0.655814</td>\n",
       "      <td>0.681415</td>\n",
       "      <td>0.065116</td>\n",
       "      <td>0.420484</td>\n",
       "    </tr>\n",
       "    <tr>\n",
       "      <th>2</th>\n",
       "      <td>0.3</td>\n",
       "      <td>129</td>\n",
       "      <td>0.655814</td>\n",
       "      <td>0.681415</td>\n",
       "      <td>0.065116</td>\n",
       "      <td>0.420484</td>\n",
       "    </tr>\n",
       "    <tr>\n",
       "      <th>3</th>\n",
       "      <td>0.4</td>\n",
       "      <td>129</td>\n",
       "      <td>0.655814</td>\n",
       "      <td>0.681415</td>\n",
       "      <td>0.065116</td>\n",
       "      <td>0.420484</td>\n",
       "    </tr>\n",
       "    <tr>\n",
       "      <th>4</th>\n",
       "      <td>0.5</td>\n",
       "      <td>129</td>\n",
       "      <td>0.655814</td>\n",
       "      <td>0.681415</td>\n",
       "      <td>0.065116</td>\n",
       "      <td>0.420484</td>\n",
       "    </tr>\n",
       "    <tr>\n",
       "      <th>5</th>\n",
       "      <td>0.6</td>\n",
       "      <td>129</td>\n",
       "      <td>0.655814</td>\n",
       "      <td>0.681415</td>\n",
       "      <td>0.065116</td>\n",
       "      <td>0.420484</td>\n",
       "    </tr>\n",
       "    <tr>\n",
       "      <th>6</th>\n",
       "      <td>0.7</td>\n",
       "      <td>129</td>\n",
       "      <td>0.655814</td>\n",
       "      <td>0.681415</td>\n",
       "      <td>0.065116</td>\n",
       "      <td>0.420484</td>\n",
       "    </tr>\n",
       "    <tr>\n",
       "      <th>7</th>\n",
       "      <td>0.8</td>\n",
       "      <td>129</td>\n",
       "      <td>0.655814</td>\n",
       "      <td>0.681415</td>\n",
       "      <td>0.065116</td>\n",
       "      <td>0.420484</td>\n",
       "    </tr>\n",
       "    <tr>\n",
       "      <th>8</th>\n",
       "      <td>0.9</td>\n",
       "      <td>129</td>\n",
       "      <td>0.655814</td>\n",
       "      <td>0.681415</td>\n",
       "      <td>0.065116</td>\n",
       "      <td>0.420484</td>\n",
       "    </tr>\n",
       "    <tr>\n",
       "      <th>9</th>\n",
       "      <td>1.0</td>\n",
       "      <td>129</td>\n",
       "      <td>0.655814</td>\n",
       "      <td>0.681415</td>\n",
       "      <td>0.065116</td>\n",
       "      <td>0.420484</td>\n",
       "    </tr>\n",
       "    <tr>\n",
       "      <th>10</th>\n",
       "      <td>1.1</td>\n",
       "      <td>129</td>\n",
       "      <td>0.655814</td>\n",
       "      <td>0.681415</td>\n",
       "      <td>0.065116</td>\n",
       "      <td>0.420484</td>\n",
       "    </tr>\n",
       "    <tr>\n",
       "      <th>11</th>\n",
       "      <td>1.2</td>\n",
       "      <td>129</td>\n",
       "      <td>0.655814</td>\n",
       "      <td>0.681415</td>\n",
       "      <td>0.065116</td>\n",
       "      <td>0.420484</td>\n",
       "    </tr>\n",
       "    <tr>\n",
       "      <th>12</th>\n",
       "      <td>1.3</td>\n",
       "      <td>129</td>\n",
       "      <td>0.655814</td>\n",
       "      <td>0.681415</td>\n",
       "      <td>0.065116</td>\n",
       "      <td>0.420484</td>\n",
       "    </tr>\n",
       "    <tr>\n",
       "      <th>13</th>\n",
       "      <td>1.4</td>\n",
       "      <td>129</td>\n",
       "      <td>0.655814</td>\n",
       "      <td>0.681415</td>\n",
       "      <td>0.065116</td>\n",
       "      <td>0.420484</td>\n",
       "    </tr>\n",
       "    <tr>\n",
       "      <th>14</th>\n",
       "      <td>1.5</td>\n",
       "      <td>129</td>\n",
       "      <td>0.655814</td>\n",
       "      <td>0.681415</td>\n",
       "      <td>0.065116</td>\n",
       "      <td>0.420484</td>\n",
       "    </tr>\n",
       "    <tr>\n",
       "      <th>15</th>\n",
       "      <td>1.6</td>\n",
       "      <td>154</td>\n",
       "      <td>0.757143</td>\n",
       "      <td>0.509502</td>\n",
       "      <td>0.057468</td>\n",
       "      <td>0.417039</td>\n",
       "    </tr>\n",
       "    <tr>\n",
       "      <th>16</th>\n",
       "      <td>1.7</td>\n",
       "      <td>154</td>\n",
       "      <td>0.757143</td>\n",
       "      <td>0.509502</td>\n",
       "      <td>0.057468</td>\n",
       "      <td>0.417039</td>\n",
       "    </tr>\n",
       "    <tr>\n",
       "      <th>17</th>\n",
       "      <td>1.8</td>\n",
       "      <td>154</td>\n",
       "      <td>0.757143</td>\n",
       "      <td>0.509502</td>\n",
       "      <td>0.057468</td>\n",
       "      <td>0.417039</td>\n",
       "    </tr>\n",
       "    <tr>\n",
       "      <th>18</th>\n",
       "      <td>1.9</td>\n",
       "      <td>154</td>\n",
       "      <td>0.757143</td>\n",
       "      <td>0.509502</td>\n",
       "      <td>0.057468</td>\n",
       "      <td>0.417039</td>\n",
       "    </tr>\n",
       "    <tr>\n",
       "      <th>19</th>\n",
       "      <td>2.0</td>\n",
       "      <td>157</td>\n",
       "      <td>0.787898</td>\n",
       "      <td>0.551356</td>\n",
       "      <td>0.069745</td>\n",
       "      <td>0.422412</td>\n",
       "    </tr>\n",
       "  </tbody>\n",
       "</table>\n",
       "</div>"
      ],
      "text/plain": [
       "    Threshold  Peaks/1000  Mean CF Diff  Std CF Diff  Mean BW Diff  \\\n",
       "0         0.1         129      0.655814     0.681415      0.065116   \n",
       "1         0.2         129      0.655814     0.681415      0.065116   \n",
       "2         0.3         129      0.655814     0.681415      0.065116   \n",
       "3         0.4         129      0.655814     0.681415      0.065116   \n",
       "4         0.5         129      0.655814     0.681415      0.065116   \n",
       "5         0.6         129      0.655814     0.681415      0.065116   \n",
       "6         0.7         129      0.655814     0.681415      0.065116   \n",
       "7         0.8         129      0.655814     0.681415      0.065116   \n",
       "8         0.9         129      0.655814     0.681415      0.065116   \n",
       "9         1.0         129      0.655814     0.681415      0.065116   \n",
       "10        1.1         129      0.655814     0.681415      0.065116   \n",
       "11        1.2         129      0.655814     0.681415      0.065116   \n",
       "12        1.3         129      0.655814     0.681415      0.065116   \n",
       "13        1.4         129      0.655814     0.681415      0.065116   \n",
       "14        1.5         129      0.655814     0.681415      0.065116   \n",
       "15        1.6         154      0.757143     0.509502      0.057468   \n",
       "16        1.7         154      0.757143     0.509502      0.057468   \n",
       "17        1.8         154      0.757143     0.509502      0.057468   \n",
       "18        1.9         154      0.757143     0.509502      0.057468   \n",
       "19        2.0         157      0.787898     0.551356      0.069745   \n",
       "\n",
       "    Std BW Diff  \n",
       "0      0.420484  \n",
       "1      0.420484  \n",
       "2      0.420484  \n",
       "3      0.420484  \n",
       "4      0.420484  \n",
       "5      0.420484  \n",
       "6      0.420484  \n",
       "7      0.420484  \n",
       "8      0.420484  \n",
       "9      0.420484  \n",
       "10     0.420484  \n",
       "11     0.420484  \n",
       "12     0.420484  \n",
       "13     0.420484  \n",
       "14     0.420484  \n",
       "15     0.417039  \n",
       "16     0.417039  \n",
       "17     0.417039  \n",
       "18     0.417039  \n",
       "19     0.422412  "
      ]
     },
     "execution_count": 12,
     "metadata": {},
     "output_type": "execute_result"
    }
   ],
   "source": [
    "# Compare to orignal threshold, where CF was used as upper bounds\n",
    "df_orig = pd.DataFrame()\n",
    "df_orig['Threshold'] = np.arange(0.1, 2.1, 0.1)\n",
    "df_orig['Peaks/1000'] = [129, 129, 129, 129, 129, 129, 129, 129, 129, 129, 129, 129, 129, 129, 129, 154, 154, 154, 154, 157]\n",
    "df_orig['Mean CF Diff'] = [0.655814, 0.655814, 0.655814, 0.655814, 0.655814, 0.655814, 0.655814, 0.655814, 0.655814, 0.655814, 0.655814, 0.655814, 0.655814, 0.655814, 0.655814, 0.757143, 0.757143, 0.757143, 0.757143, 0.787898]  \n",
    "df_orig['Std CF Diff'] = [0.681415, 0.681415, 0.681415, 0.681415, 0.681415, 0.681415, 0.681415, 0.681415, 0.681415, 0.681415, 0.681415, 0.681415, 0.681415, 0.681415, 0.681415, 0.509502, 0.509502, 0.509502, 0.509502, 0.551356\n",
    "]\n",
    "df_orig['Mean BW Diff'] = [0.065116, 0.065116, 0.065116, 0.065116, 0.065116, 0.065116, 0.065116, 0.065116, 0.065116, 0.065116, 0.065116, 0.065116, 0.065116, 0.065116, 0.065116, 0.057468, 0.057468, 0.057468, 0.057468, 0.069745\n",
    "]\n",
    "df_orig['Std BW Diff'] = [0.420484, 0.420484, 0.420484, 0.420484, 0.420484, 0.420484, 0.420484, 0.420484, 0.420484, 0.420484, 0.420484, 0.420484, 0.420484, 0.420484, 0.420484, 0.417039, 0.417039, 0.417039, 0.417039, 0.422412]\n",
    "df_orig"
   ]
  },
  {
   "cell_type": "markdown",
   "metadata": {},
   "source": [
    "## Results\n",
    "\n",
    "The original threshold needs to be lowered since peaks were originally removed if:<br>\n",
    "*guess_freq_0 > guess_freq_1 - (guess_std_1 * _gauss_overlap_thresh)*\n",
    "\n",
    "The new conditional to drop a peak has become:<br>\n",
    "*guess_freq_0 + __(guess_std_0 * _gauss_overlap_thresh)__ > guess_freq_1 - (guess_std_1 * _gauss_overlap_thresh)*\n",
    "\n",
    "This means the same <code>_gauss_overlap_thresh</code> of 1.5 will allow this condition to be more easily met.\n",
    "\n",
    "This new conditional can be re-arranged:<br>\n",
    "*_gauss_overlap_thresh * (guess_std_0 + guess_std_1) > guess_freq_1 - guess_freq_0*\n",
    "\n",
    "And since guess_std_0 was zero originally, the new to old threshold is:<br>\n",
    "new *_gauss_overlap_thresh * (guess_std_0 + guess_std_1) =* orig *_gauss_overlap_thresh * guess_std_1*\n",
    "\n",
    "And if guess_std_0 ~= guess_std_1, then:<br>\n",
    "__new__ *_gauss_overlap_thresh * 2 guess_std =* __orig__*_gauss_overlap_thresh * guess_std* <br>\n",
    "__new__ *_gauss_overlap_thresh =* __orig__*_gauss_overlap_thresh / 2*\n",
    "\n",
    "In other words, in cases where the standard deviation guess of the two gaussians are equal, the new threshold should be <code>0.75</code>. If the two standard deviations are not equal, the new threshold is more complicated to maintain the original <code>1.5</code> cutoff:<br>\n",
    "__new__ *_gauss_overlap_thresh =* __orig__*_gauss_overlap_thresh * guess_std+1 / (guess_std_0 + guess_std_1)*\n",
    "\n",
    "A threshold of 0.75 is also found experimentally above."
   ]
  }
 ],
 "metadata": {
  "kernelspec": {
   "display_name": "Python 3",
   "language": "python",
   "name": "python3"
  },
  "language_info": {
   "codemirror_mode": {
    "name": "ipython",
    "version": 3
   },
   "file_extension": ".py",
   "mimetype": "text/x-python",
   "name": "python",
   "nbconvert_exporter": "python",
   "pygments_lexer": "ipython3",
   "version": "3.8.2"
  }
 },
 "nbformat": 4,
 "nbformat_minor": 4
}
